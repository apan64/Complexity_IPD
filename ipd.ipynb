{
 "cells": [
  {
   "cell_type": "markdown",
   "metadata": {},
   "source": [
    "# IPD Tournament\n",
    "### Complexity Fall 2017\n",
    "### Written by Andrew Pan"
   ]
  },
  {
   "cell_type": "markdown",
   "metadata": {},
   "source": [
    "Below is a base class used to represent a Prisoner in the Prisoner's Dilemma.  Each time a Prisoner plays a match of the Prisoner's Dilemma against another agent, its decision (either a C or a D) will be appended to its history list.  Additionally, Prisoners are given the history of their opponent's decisions to base their decision off of.\n",
    "\n",
    "Write your own class that extends this one and implement your own version of makeDecision()!  Also in your child class' \\__init__ statement, give your class a name to refer to it by."
   ]
  },
  {
   "cell_type": "code",
   "execution_count": 2,
   "metadata": {
    "collapsed": true
   },
   "outputs": [],
   "source": [
    "# Create a class that extends this one\n",
    "# Make sure to use Python 3 syntax since I built the tournament system in 3\n",
    "class Prisoner:\n",
    "    def __init__(self):\n",
    "        self.history = []\n",
    "        # TODO: Give your class a name for me to refer to it by\n",
    "        self.name = 'Default'\n",
    "        \n",
    "    def getHistory(self):\n",
    "        return self.history\n",
    "    \n",
    "    def addToHistory(self, decision):\n",
    "        self.history.append(decision)\n",
    "        return\n",
    "    \n",
    "    def makeDecision(self, history):\n",
    "        '''\n",
    "        Input: List containing the history of the opposing agent's decisions throughout previous games\n",
    "        \n",
    "        Output: The character 'C' or 'D', to represent the agent's choice to either cooperate or defect\n",
    "        '''\n",
    "        # TODO: Overwrite this function yourself!\n",
    "        return 'D'\n",
    "    \n",
    "    def playDilemma(self, opponent):\n",
    "        decision = self.makeDecision(opponent.getHistory())\n",
    "        self.addToHistory(decision)\n",
    "        return decision"
   ]
  },
  {
   "cell_type": "markdown",
   "metadata": {},
   "source": [
    "Here are some example classes that have extended the default Prisoner class:"
   ]
  },
  {
   "cell_type": "code",
   "execution_count": 2,
   "metadata": {
    "collapsed": true
   },
   "outputs": [],
   "source": [
    "class Cooperator(Prisoner):\n",
    "    def __init__(self):\n",
    "        Prisoner.__init__(self)\n",
    "        self.name = 'Cooperator'\n",
    "    def makeDecision(self, history):\n",
    "        return 'C'\n",
    "\n",
    "class Flipper(Prisoner):\n",
    "    def __init__(self):\n",
    "        Prisoner.__init__(self)\n",
    "        self.name = 'Flipper'\n",
    "    def makeDecision(self, history):\n",
    "        return 'C' if len(self.getHistory()) % 2 else 'D'\n",
    "\n",
    "class Titfortat(Prisoner):\n",
    "    def __init__(self):\n",
    "        Prisoner.__init__(self)\n",
    "        self.name = 'Titfortat'\n",
    "    def makeDecision(self, history):\n",
    "        if (len(history) == 0):\n",
    "            return 'C'\n",
    "        return history[-1]"
   ]
  },
  {
   "cell_type": "markdown",
   "metadata": {},
   "source": [
    "You are free to edit the makeDecision() function as long as you do not edit the agent's history!  "
   ]
  },
  {
   "cell_type": "code",
   "execution_count": null,
   "metadata": {
    "collapsed": true
   },
   "outputs": [],
   "source": [
    "class SmoothCriminal1(Prisoner):\n",
    "    def __init__(self):\n",
    "        Prisoner.__init__(self)\n",
    "        self.name = 'SmoothCriminal1'\n",
    "    def makeDecision(self, history):\n",
    "        defect = 0\n",
    "        coop = 0\n",
    "        if (len(history) == 0):\n",
    "            return 'D'\n",
    "        else:\n",
    "            for dec in history:\n",
    "                if dec== 'D':\n",
    "                    defect += 1;\n",
    "                else:\n",
    "                    coop += 1;\n",
    "            if defect >= coop:\n",
    "                return 'D'\n",
    "            else:\n",
    "                return 'C'    "
   ]
  }
 ],
 "metadata": {
  "kernelspec": {
   "display_name": "Python 3",
   "language": "python",
   "name": "python3"
  },
  "language_info": {
   "codemirror_mode": {
    "name": "ipython",
    "version": 3
   },
   "file_extension": ".py",
   "mimetype": "text/x-python",
   "name": "python",
   "nbconvert_exporter": "python",
   "pygments_lexer": "ipython3",
   "version": "3.6.2"
  }
 },
 "nbformat": 4,
 "nbformat_minor": 2
}
