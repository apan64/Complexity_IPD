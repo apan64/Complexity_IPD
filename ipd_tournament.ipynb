{
 "cells": [
  {
   "cell_type": "markdown",
   "metadata": {},
   "source": [
    "# IPD Tournament\n",
    "### Complexity Fall 2017\n",
    "### Written by Andrew Pan"
   ]
  },
  {
   "cell_type": "code",
   "execution_count": 2,
   "metadata": {
    "collapsed": true
   },
   "outputs": [],
   "source": [
    "from prisoners import *\n",
    "from random import shuffle\n",
    "\n",
    "agents = []\n",
    "agents.append(Goldfish())\n",
    "agents.append(PavlovianTFT())\n",
    "agents.append(Roki())\n",
    "agents.append(Average_Joe())\n",
    "agents.append(Bob())\n",
    "agents.append(ElepertPrisoner())\n",
    "agents.append(Kaitlyn())\n",
    "agents.append(SandwichPrisoner())\n",
    "agents.append(SmoothCriminal2AkaPrettyPrincess())\n",
    "agents.append(Snail())\n",
    "agents.append(TigerMountainPrisoner())\n",
    "agents.append(VickyPrisoner())\n",
    "agents.append(wtw())\n",
    "agents.append(NotAMobster())\n",
    "agents.append(RandomDefectTFT())\n",
    "agents.append(MostBestUnderling())\n",
    "\n",
    "for agent in agents:\n",
    "    agent.score = 0\n",
    "    agent.wins = 0\n",
    "    agent.cooperations = 0\n",
    "\n",
    "# just say for now I have all the classes as \"agents\", list of instantitated agents\n",
    "\n",
    "# going to play 1000 rounds, where in each round every agent plays all other agents once\n",
    "    \n",
    "rounds = 1000\n",
    "scoring = {'CC': (3, 3, 1, 1), 'CD': (0, 5, 0, 1), 'DC': (5, 0, 1, 0), 'DD': (1, 1, 0, 0)}\n",
    "\n",
    "for roundNum in range(rounds):\n",
    "    shuffle(agents)\n",
    "    for i, agent1 in enumerate(agents):\n",
    "        for j, agent2 in enumerate(agents[i + 1:]):\n",
    "            decision1 = agent1.playDilemma(agent2)\n",
    "            decision2 = agent2.playDilemma(agent1)\n",
    "            score1, score2, win1, win2 = scoring[decision1 + decision2]\n",
    "            agent1.score += score1\n",
    "            agent2.score += score2\n",
    "            agent1.wins += win1\n",
    "            agent2.wins += win2\n",
    "            agent1.cooperations += (decision1 == 'C')\n",
    "            agent2.cooperations += (decision2 == 'C')"
   ]
  },
  {
   "cell_type": "code",
   "execution_count": 3,
   "metadata": {},
   "outputs": [
    {
     "name": "stdout",
     "output_type": "stream",
     "text": [
      "Sorting by Score\n",
      "Name                                              | Score     | Cooperations\n",
      "----------------------------------------------------------------------------\n",
      "Snail                                             | 41495     | 11568     \n",
      "Kaitlyn                                           | 40988     | 12164     \n",
      "Smooth Criminal 2 AKA Pretty Princess             | 40852     | 12021     \n",
      "RandomDefectTFT                                   | 40830     | 11768     \n",
      "EmilyLPrisoner                                    | 40730     | 11849     \n",
      "Idiot Sandwich Prisoner                           | 40578     | 12081     \n",
      "Wolpertinger                                      | 39922     | 13070     \n",
      "Tony                                              | 39883     | 13027     \n",
      "Roki                                              | 39781     | 8420      \n",
      "Average_Joe                                       | 39568     | 13576     \n",
      "VickyPrisoner                                     | 39487     | 13537     \n",
      "BOB                                               | 39267     | 15000     \n",
      "Goldfish                                          | 39225     | 15000     \n",
      "MostBestUnderling                                 | 39186     | 15000     \n",
      "OppoTaco                                          | 36579     | 7500      \n",
      "PavlovianTFT                                      | 32903     | 213       \n"
     ]
    }
   ],
   "source": [
    "print('Sorting by Score')\n",
    "print('{:<50}| {:<10}| {:<10}'.format('Name', 'Score', 'Cooperations'))\n",
    "print('----------------------------------------------------------------------------')\n",
    "for agent in sorted(agents, key=lambda a:a.score, reverse = True):\n",
    "    print('{:<50}| {:<10}| {:<10}'.format(agent.name, agent.score, agent.cooperations))"
   ]
  },
  {
   "cell_type": "code",
   "execution_count": 4,
   "metadata": {},
   "outputs": [
    {
     "name": "stdout",
     "output_type": "stream",
     "text": [
      "Sorting by Wins\n",
      "Name                                              | Wins      | Cooperations\n",
      "----------------------------------------------------------\n",
      "BOB                                               | 13089     | 15000     \n",
      "Goldfish                                          | 13075     | 15000     \n",
      "MostBestUnderling                                 | 13062     | 15000     \n",
      "Average_Joe                                       | 12647     | 13576     \n",
      "VickyPrisoner                                     | 12602     | 13537     \n",
      "Wolpertinger                                      | 12545     | 13070     \n",
      "Tony                                              | 12462     | 13027     \n",
      "Kaitlyn                                           | 12313     | 12164     \n",
      "Idiot Sandwich Prisoner                           | 12294     | 12081     \n",
      "Smooth Criminal 2 AKA Pretty Princess             | 12277     | 12021     \n",
      "EmilyLPrisoner                                    | 12245     | 11849     \n",
      "RandomDefectTFT                                   | 12232     | 11768     \n",
      "Snail                                             | 12212     | 11568     \n",
      "Roki                                              | 9926      | 8420      \n",
      "OppoTaco                                          | 8233      | 7500      \n",
      "PavlovianTFT                                      | 4580      | 213       \n"
     ]
    }
   ],
   "source": [
    "print('Sorting by Wins')\n",
    "print('{:<50}| {:<10}| {:<10}'.format('Name', 'Wins', 'Cooperations'))\n",
    "print('----------------------------------------------------------')\n",
    "for agent in sorted(agents, key=lambda a:a.wins, reverse = True):\n",
    "    print('{:<50}| {:<10}| {:<10}'.format(agent.name, agent.wins, agent.cooperations))"
   ]
  },
  {
   "cell_type": "code",
   "execution_count": 5,
   "metadata": {},
   "outputs": [
    {
     "name": "stdout",
     "output_type": "stream",
     "text": [
      "Sorting by Cooperations\n",
      "Name                                              | Score     | Cooperations\n",
      "----------------------------------------------------------\n",
      "MostBestUnderling                                 | 39186     | 15000     \n",
      "BOB                                               | 39267     | 15000     \n",
      "Goldfish                                          | 39225     | 15000     \n",
      "Average_Joe                                       | 39568     | 13576     \n",
      "VickyPrisoner                                     | 39487     | 13537     \n",
      "Wolpertinger                                      | 39922     | 13070     \n",
      "Tony                                              | 39883     | 13027     \n",
      "Kaitlyn                                           | 40988     | 12164     \n",
      "Idiot Sandwich Prisoner                           | 40578     | 12081     \n",
      "Smooth Criminal 2 AKA Pretty Princess             | 40852     | 12021     \n",
      "EmilyLPrisoner                                    | 40730     | 11849     \n",
      "RandomDefectTFT                                   | 40830     | 11768     \n",
      "Snail                                             | 41495     | 11568     \n",
      "Roki                                              | 39781     | 8420      \n",
      "OppoTaco                                          | 36579     | 7500      \n",
      "PavlovianTFT                                      | 32903     | 213       \n"
     ]
    }
   ],
   "source": [
    "print('Sorting by Cooperations')\n",
    "print('{:<50}| {:<10}| {:<10}'.format('Name', 'Score', 'Cooperations'))\n",
    "print('----------------------------------------------------------')\n",
    "for agent in sorted(agents, key=lambda a:a.cooperations, reverse = True):\n",
    "    print('{:<50}| {:<10}| {:<10}'.format(agent.name, agent.score, agent.cooperations))"
   ]
  },
  {
   "cell_type": "code",
   "execution_count": 6,
   "metadata": {},
   "outputs": [
    {
     "name": "stdout",
     "output_type": "stream",
     "text": [
      "Sorting by Defections\n",
      "Name                                              | Score     | Defects   \n",
      "----------------------------------------------------------\n",
      "PavlovianTFT                                      | 32903     | 14787     \n",
      "OppoTaco                                          | 36579     | 7500      \n",
      "Roki                                              | 39781     | 6580      \n",
      "Snail                                             | 41495     | 3432      \n",
      "RandomDefectTFT                                   | 40830     | 3232      \n",
      "EmilyLPrisoner                                    | 40730     | 3151      \n",
      "Smooth Criminal 2 AKA Pretty Princess             | 40852     | 2979      \n",
      "Idiot Sandwich Prisoner                           | 40578     | 2919      \n",
      "Kaitlyn                                           | 40988     | 2836      \n",
      "Tony                                              | 39883     | 1973      \n",
      "Wolpertinger                                      | 39922     | 1930      \n",
      "VickyPrisoner                                     | 39487     | 1463      \n",
      "Average_Joe                                       | 39568     | 1424      \n",
      "MostBestUnderling                                 | 39186     | 0         \n",
      "BOB                                               | 39267     | 0         \n",
      "Goldfish                                          | 39225     | 0         \n"
     ]
    }
   ],
   "source": [
    "print('Sorting by Defections')\n",
    "print('{:<50}| {:<10}| {:<10}'.format('Name', 'Score', 'Defects'))\n",
    "print('----------------------------------------------------------')\n",
    "for agent in sorted(agents, key=lambda a:a.getHistory().count('C')):\n",
    "    print('{:<50}| {:<10}| {:<10}'.format(agent.name, agent.score, len(agent.getHistory()) - agent.cooperations))"
   ]
  },
  {
   "cell_type": "code",
   "execution_count": null,
   "metadata": {
    "collapsed": true
   },
   "outputs": [],
   "source": []
  },
  {
   "cell_type": "code",
   "execution_count": 7,
   "metadata": {
    "collapsed": true
   },
   "outputs": [],
   "source": [
    "from prisoners import *\n",
    "from random import shuffle\n",
    "\n",
    "agents = []\n",
    "for i in range(10):\n",
    "    agents.append(Defector())\n",
    "agents.append(Goldfish())\n",
    "agents.append(PavlovianTFT())\n",
    "agents.append(Roki())\n",
    "agents.append(Average_Joe())\n",
    "agents.append(Bob())\n",
    "agents.append(ElepertPrisoner())\n",
    "agents.append(Kaitlyn())\n",
    "agents.append(SandwichPrisoner())\n",
    "agents.append(SmoothCriminal2AkaPrettyPrincess())\n",
    "agents.append(Snail())\n",
    "agents.append(TigerMountainPrisoner())\n",
    "agents.append(VickyPrisoner())\n",
    "agents.append(wtw())\n",
    "agents.append(NotAMobster())\n",
    "agents.append(RandomDefectTFT())\n",
    "agents.append(MostBestUnderling())\n",
    "\n",
    "for agent in agents:\n",
    "    agent.score = 0\n",
    "    agent.wins = 0\n",
    "    agent.cooperations = 0\n",
    "\n",
    "# just say for now I have all the classes as \"agents\", list of instantitated agents\n",
    "\n",
    "# going to play 1000 rounds, where in each round every agent plays all other agents once\n",
    "    \n",
    "rounds = 1000\n",
    "scoring = {'CC': (3, 3, 1, 1), 'CD': (0, 5, 0, 1), 'DC': (5, 0, 1, 0), 'DD': (1, 1, 0, 0)}\n",
    "\n",
    "for roundNum in range(rounds):\n",
    "    shuffle(agents)\n",
    "    for i, agent1 in enumerate(agents):\n",
    "        for j, agent2 in enumerate(agents[i + 1:]):\n",
    "            decision1 = agent1.playDilemma(agent2)\n",
    "            decision2 = agent2.playDilemma(agent1)\n",
    "            score1, score2, win1, win2 = scoring[decision1 + decision2]\n",
    "            agent1.score += score1\n",
    "            agent2.score += score2\n",
    "            agent1.wins += win1\n",
    "            agent2.wins += win2\n",
    "            agent1.cooperations += (decision1 == 'C')\n",
    "            agent2.cooperations += (decision2 == 'C')"
   ]
  },
  {
   "cell_type": "code",
   "execution_count": 8,
   "metadata": {},
   "outputs": [
    {
     "name": "stdout",
     "output_type": "stream",
     "text": [
      "Sorting by Score\n",
      "Name                                              | Score     | Cooperations\n",
      "----------------------------------------------------------------------------\n",
      "Defector                                          | 41272     | 0         \n",
      "Defector                                          | 41240     | 0         \n",
      "Defector                                          | 41224     | 0         \n",
      "Tony                                              | 41220     | 0         \n",
      "Defector                                          | 41216     | 0         \n",
      "PavlovianTFT                                      | 41214     | 3         \n",
      "Defector                                          | 41200     | 0         \n",
      "Defector                                          | 41192     | 0         \n",
      "Defector                                          | 41188     | 0         \n",
      "Defector                                          | 41180     | 0         \n",
      "Defector                                          | 41176     | 0         \n",
      "Defector                                          | 41164     | 0         \n",
      "OppoTaco                                          | 39489     | 21990     \n",
      "VickyPrisoner                                     | 38442     | 2001      \n",
      "BOB                                               | 37419     | 20568     \n",
      "Roki                                              | 37032     | 2357      \n",
      "MostBestUnderling                                 | 34830     | 25000     \n",
      "Goldfish                                          | 34737     | 25000     \n",
      "Average_Joe                                       | 34148     | 4000      \n",
      "Kaitlyn                                           | 33983     | 4920      \n",
      "RandomDefectTFT                                   | 33982     | 4867      \n",
      "Smooth Criminal 2 AKA Pretty Princess             | 33931     | 4000      \n",
      "EmilyLPrisoner                                    | 33898     | 4923      \n",
      "Snail                                             | 33862     | 5251      \n",
      "Idiot Sandwich Prisoner                           | 33099     | 6070      \n",
      "Wolpertinger                                      | 32940     | 5282      \n"
     ]
    }
   ],
   "source": [
    "print('Sorting by Score')\n",
    "print('{:<50}| {:<10}| {:<10}'.format('Name', 'Score', 'Cooperations'))\n",
    "print('----------------------------------------------------------------------------')\n",
    "for agent in sorted(agents, key=lambda a:a.score, reverse = True):\n",
    "    print('{:<50}| {:<10}| {:<10}'.format(agent.name, agent.score, agent.cooperations))"
   ]
  },
  {
   "cell_type": "code",
   "execution_count": 9,
   "metadata": {},
   "outputs": [
    {
     "name": "stdout",
     "output_type": "stream",
     "text": [
      "Sorting by Wins\n",
      "Name                                              | Wins      | Cooperations\n",
      "----------------------------------------------------------\n",
      "MostBestUnderling                                 | 11610     | 25000     \n",
      "Goldfish                                          | 11579     | 25000     \n",
      "OppoTaco                                          | 11158     | 21990     \n",
      "BOB                                               | 9645      | 20568     \n",
      "Idiot Sandwich Prisoner                           | 4628      | 6070      \n",
      "Snail                                             | 4511      | 5251      \n",
      "EmilyLPrisoner                                    | 4501      | 4923      \n",
      "RandomDefectTFT                                   | 4497      | 4867      \n",
      "Kaitlyn                                           | 4395      | 4920      \n",
      "Wolpertinger                                      | 4373      | 5282      \n",
      "VickyPrisoner                                     | 4361      | 2001      \n",
      "Average_Joe                                       | 4149      | 4000      \n",
      "Roki                                              | 4113      | 2357      \n",
      "Smooth Criminal 2 AKA Pretty Princess             | 4089      | 4000      \n",
      "Defector                                          | 4068      | 0         \n",
      "Defector                                          | 4060      | 0         \n",
      "Defector                                          | 4056      | 0         \n",
      "PavlovianTFT                                      | 4055      | 3         \n",
      "Tony                                              | 4055      | 0         \n",
      "Defector                                          | 4054      | 0         \n",
      "Defector                                          | 4050      | 0         \n",
      "Defector                                          | 4048      | 0         \n",
      "Defector                                          | 4047      | 0         \n",
      "Defector                                          | 4045      | 0         \n",
      "Defector                                          | 4044      | 0         \n",
      "Defector                                          | 4041      | 0         \n"
     ]
    }
   ],
   "source": [
    "print('Sorting by Wins')\n",
    "print('{:<50}| {:<10}| {:<10}'.format('Name', 'Wins', 'Cooperations'))\n",
    "print('----------------------------------------------------------')\n",
    "for agent in sorted(agents, key=lambda a:a.wins, reverse = True):\n",
    "    print('{:<50}| {:<10}| {:<10}'.format(agent.name, agent.wins, agent.cooperations))"
   ]
  },
  {
   "cell_type": "code",
   "execution_count": 10,
   "metadata": {},
   "outputs": [
    {
     "name": "stdout",
     "output_type": "stream",
     "text": [
      "Sorting by Cooperations\n",
      "Name                                              | Score     | Cooperations\n",
      "----------------------------------------------------------\n",
      "Goldfish                                          | 34737     | 25000     \n",
      "MostBestUnderling                                 | 34830     | 25000     \n",
      "OppoTaco                                          | 39489     | 21990     \n",
      "BOB                                               | 37419     | 20568     \n",
      "Idiot Sandwich Prisoner                           | 33099     | 6070      \n",
      "Wolpertinger                                      | 32940     | 5282      \n",
      "Snail                                             | 33862     | 5251      \n",
      "EmilyLPrisoner                                    | 33898     | 4923      \n",
      "Kaitlyn                                           | 33983     | 4920      \n",
      "RandomDefectTFT                                   | 33982     | 4867      \n",
      "Smooth Criminal 2 AKA Pretty Princess             | 33931     | 4000      \n",
      "Average_Joe                                       | 34148     | 4000      \n",
      "Roki                                              | 37032     | 2357      \n",
      "VickyPrisoner                                     | 38442     | 2001      \n",
      "PavlovianTFT                                      | 41214     | 3         \n",
      "Defector                                          | 41176     | 0         \n",
      "Defector                                          | 41180     | 0         \n",
      "Defector                                          | 41188     | 0         \n",
      "Defector                                          | 41216     | 0         \n",
      "Defector                                          | 41240     | 0         \n",
      "Defector                                          | 41224     | 0         \n",
      "Defector                                          | 41164     | 0         \n",
      "Defector                                          | 41192     | 0         \n",
      "Tony                                              | 41220     | 0         \n",
      "Defector                                          | 41200     | 0         \n",
      "Defector                                          | 41272     | 0         \n"
     ]
    }
   ],
   "source": [
    "print('Sorting by Cooperations')\n",
    "print('{:<50}| {:<10}| {:<10}'.format('Name', 'Score', 'Cooperations'))\n",
    "print('----------------------------------------------------------')\n",
    "for agent in sorted(agents, key=lambda a:a.cooperations, reverse = True):\n",
    "    print('{:<50}| {:<10}| {:<10}'.format(agent.name, agent.score, agent.cooperations))"
   ]
  },
  {
   "cell_type": "code",
   "execution_count": 11,
   "metadata": {},
   "outputs": [
    {
     "name": "stdout",
     "output_type": "stream",
     "text": [
      "Sorting by Defections\n",
      "Name                                              | Score     | Defects   \n",
      "----------------------------------------------------------\n",
      "Defector                                          | 41176     | 25000     \n",
      "Defector                                          | 41180     | 25000     \n",
      "Defector                                          | 41188     | 25000     \n",
      "Defector                                          | 41216     | 25000     \n",
      "Defector                                          | 41240     | 25000     \n",
      "Defector                                          | 41224     | 25000     \n",
      "Defector                                          | 41164     | 25000     \n",
      "Defector                                          | 41192     | 25000     \n",
      "Tony                                              | 41220     | 25000     \n",
      "Defector                                          | 41200     | 25000     \n",
      "Defector                                          | 41272     | 25000     \n",
      "PavlovianTFT                                      | 41214     | 24997     \n",
      "VickyPrisoner                                     | 38442     | 22999     \n",
      "Roki                                              | 37032     | 22643     \n",
      "Smooth Criminal 2 AKA Pretty Princess             | 33931     | 21000     \n",
      "Average_Joe                                       | 34148     | 21000     \n",
      "RandomDefectTFT                                   | 33982     | 20133     \n",
      "Kaitlyn                                           | 33983     | 20080     \n",
      "EmilyLPrisoner                                    | 33898     | 20077     \n",
      "Snail                                             | 33862     | 19749     \n",
      "Wolpertinger                                      | 32940     | 19718     \n",
      "Idiot Sandwich Prisoner                           | 33099     | 18930     \n",
      "BOB                                               | 37419     | 4432      \n",
      "OppoTaco                                          | 39489     | 3010      \n",
      "Goldfish                                          | 34737     | 0         \n",
      "MostBestUnderling                                 | 34830     | 0         \n"
     ]
    }
   ],
   "source": [
    "print('Sorting by Defections')\n",
    "print('{:<50}| {:<10}| {:<10}'.format('Name', 'Score', 'Defects'))\n",
    "print('----------------------------------------------------------')\n",
    "for agent in sorted(agents, key=lambda a:a.getHistory().count('C')):\n",
    "    print('{:<50}| {:<10}| {:<10}'.format(agent.name, agent.score, len(agent.getHistory()) - agent.cooperations))"
   ]
  },
  {
   "cell_type": "code",
   "execution_count": null,
   "metadata": {
    "collapsed": true
   },
   "outputs": [],
   "source": []
  },
  {
   "cell_type": "code",
   "execution_count": 12,
   "metadata": {
    "collapsed": true
   },
   "outputs": [],
   "source": [
    "class Cooperator(Prisoner):\n",
    "    def __init__(self):\n",
    "        Prisoner.__init__(self)\n",
    "        self.name = 'Cooperator'\n",
    "    def makeDecision(self, history):\n",
    "        return 'C'"
   ]
  },
  {
   "cell_type": "code",
   "execution_count": 15,
   "metadata": {
    "collapsed": true
   },
   "outputs": [],
   "source": [
    "from prisoners import *\n",
    "from random import shuffle\n",
    "\n",
    "agents = []\n",
    "for i in range(10):\n",
    "    agents.append(Cooperator())\n",
    "agents.append(Goldfish())\n",
    "agents.append(PavlovianTFT())\n",
    "agents.append(Roki())\n",
    "agents.append(Average_Joe())\n",
    "agents.append(Bob())\n",
    "agents.append(ElepertPrisoner())\n",
    "agents.append(Kaitlyn())\n",
    "agents.append(SandwichPrisoner())\n",
    "agents.append(SmoothCriminal2AkaPrettyPrincess())\n",
    "agents.append(Snail())\n",
    "agents.append(TigerMountainPrisoner())\n",
    "agents.append(VickyPrisoner())\n",
    "agents.append(wtw())\n",
    "agents.append(NotAMobster())\n",
    "agents.append(RandomDefectTFT())\n",
    "agents.append(MostBestUnderling())\n",
    "\n",
    "for agent in agents:\n",
    "    agent.score = 0\n",
    "    agent.wins = 0\n",
    "    agent.cooperations = 0\n",
    "\n",
    "# just say for now I have all the classes as \"agents\", list of instantitated agents\n",
    "\n",
    "# going to play 1000 rounds, where in each round every agent plays all other agents once\n",
    "    \n",
    "rounds = 1000\n",
    "scoring = {'CC': (3, 3, 1, 1), 'CD': (0, 5, 0, 1), 'DC': (5, 0, 1, 0), 'DD': (1, 1, 0, 0)}\n",
    "\n",
    "for roundNum in range(rounds):\n",
    "    shuffle(agents)\n",
    "    for i, agent1 in enumerate(agents):\n",
    "        for j, agent2 in enumerate(agents[i + 1:]):\n",
    "            decision1 = agent1.playDilemma(agent2)\n",
    "            decision2 = agent2.playDilemma(agent1)\n",
    "            score1, score2, win1, win2 = scoring[decision1 + decision2]\n",
    "            agent1.score += score1\n",
    "            agent2.score += score2\n",
    "            agent1.wins += win1\n",
    "            agent2.wins += win2\n",
    "            agent1.cooperations += (decision1 == 'C')\n",
    "            agent2.cooperations += (decision2 == 'C')"
   ]
  },
  {
   "cell_type": "code",
   "execution_count": 16,
   "metadata": {},
   "outputs": [
    {
     "name": "stdout",
     "output_type": "stream",
     "text": [
      "Sorting by Score\n",
      "Name                                              | Score     | Cooperations\n",
      "----------------------------------------------------------\n",
      "PavlovianTFT                                      | 82599     | 353       \n",
      "Roki                                              | 77760     | 14508     \n",
      "OppoTaco                                          | 76686     | 12500     \n",
      "Smooth Criminal 2 AKA Pretty Princess             | 72025     | 22018     \n",
      "Snail                                             | 71546     | 22313     \n",
      "RandomDefectTFT                                   | 71415     | 22265     \n",
      "Kaitlyn                                           | 71378     | 22645     \n",
      "EmilyLPrisoner                                    | 71208     | 22466     \n",
      "Idiot Sandwich Prisoner                           | 70957     | 22677     \n",
      "Wolpertinger                                      | 70574     | 23103     \n",
      "Tony                                              | 70452     | 23263     \n",
      "VickyPrisoner                                     | 70352     | 23529     \n",
      "Average_Joe                                       | 70220     | 23520     \n",
      "Cooperator                                        | 69372     | 25000     \n",
      "Cooperator                                        | 69363     | 25000     \n",
      "Goldfish                                          | 69318     | 24998     \n",
      "Cooperator                                        | 69285     | 25000     \n",
      "Cooperator                                        | 69279     | 25000     \n",
      "Cooperator                                        | 69255     | 25000     \n",
      "Cooperator                                        | 69252     | 25000     \n",
      "BOB                                               | 69241     | 24998     \n",
      "Cooperator                                        | 69237     | 25000     \n",
      "Cooperator                                        | 69228     | 25000     \n",
      "Cooperator                                        | 69225     | 25000     \n",
      "MostBestUnderling                                 | 69181     | 24975     \n",
      "Cooperator                                        | 69153     | 25000     \n"
     ]
    }
   ],
   "source": [
    "print('Sorting by Score')\n",
    "print('{:<50}| {:<10}| {:<10}'.format('Name', 'Score', 'Cooperations'))\n",
    "print('----------------------------------------------------------------------------')\n",
    "for agent in sorted(agents, key=lambda a:a.score, reverse = True):\n",
    "    print('{:<50}| {:<10}| {:<10}'.format(agent.name, agent.score, agent.cooperations))"
   ]
  },
  {
   "cell_type": "code",
   "execution_count": 17,
   "metadata": {},
   "outputs": [
    {
     "name": "stdout",
     "output_type": "stream",
     "text": [
      "Sorting by Wins\n",
      "Name                                              | Wins      | Cooperations\n",
      "----------------------------------------------------------\n",
      "Cooperator                                        | 23124     | 25000     \n",
      "Cooperator                                        | 23121     | 25000     \n",
      "Goldfish                                          | 23105     | 24998     \n",
      "Cooperator                                        | 23095     | 25000     \n",
      "Cooperator                                        | 23093     | 25000     \n",
      "Cooperator                                        | 23085     | 25000     \n",
      "Cooperator                                        | 23084     | 25000     \n",
      "BOB                                               | 23079     | 24998     \n",
      "Cooperator                                        | 23079     | 25000     \n",
      "Cooperator                                        | 23076     | 25000     \n",
      "Cooperator                                        | 23075     | 25000     \n",
      "Cooperator                                        | 23051     | 25000     \n",
      "MostBestUnderling                                 | 23048     | 24975     \n",
      "VickyPrisoner                                     | 22877     | 23529     \n",
      "Average_Joe                                       | 22837     | 23520     \n",
      "Wolpertinger                                      | 22774     | 23103     \n",
      "Tony                                              | 22760     | 23263     \n",
      "Kaitlyn                                           | 22708     | 22645     \n",
      "Idiot Sandwich Prisoner                           | 22699     | 22677     \n",
      "EmilyLPrisoner                                    | 22675     | 22466     \n",
      "Smooth Criminal 2 AKA Pretty Princess             | 22651     | 22018     \n",
      "RandomDefectTFT                                   | 22624     | 22265     \n",
      "Snail                                             | 22614     | 22313     \n",
      "Roki                                              | 19978     | 14508     \n",
      "OppoTaco                                          | 18243     | 12500     \n",
      "PavlovianTFT                                      | 14576     | 353       \n"
     ]
    }
   ],
   "source": [
    "print('Sorting by Wins')\n",
    "print('{:<50}| {:<10}| {:<10}'.format('Name', 'Wins', 'Cooperations'))\n",
    "print('----------------------------------------------------------')\n",
    "for agent in sorted(agents, key=lambda a:a.wins, reverse = True):\n",
    "    print('{:<50}| {:<10}| {:<10}'.format(agent.name, agent.wins, agent.cooperations)"
   ]
  },
  {
   "cell_type": "code",
   "execution_count": 18,
   "metadata": {},
   "outputs": [
    {
     "name": "stdout",
     "output_type": "stream",
     "text": [
      "Sorting by Cooperations\n",
      "Name                                              | Score     | Cooperations\n",
      "----------------------------------------------------------\n",
      "Cooperator                                        | 69363     | 25000     \n",
      "Cooperator                                        | 69285     | 25000     \n",
      "Cooperator                                        | 69372     | 25000     \n",
      "Cooperator                                        | 69153     | 25000     \n",
      "Cooperator                                        | 69228     | 25000     \n",
      "Cooperator                                        | 69255     | 25000     \n",
      "Cooperator                                        | 69279     | 25000     \n",
      "Cooperator                                        | 69252     | 25000     \n",
      "Cooperator                                        | 69237     | 25000     \n",
      "Cooperator                                        | 69225     | 25000     \n",
      "BOB                                               | 69241     | 24998     \n",
      "Goldfish                                          | 69318     | 24998     \n",
      "MostBestUnderling                                 | 69181     | 24975     \n",
      "VickyPrisoner                                     | 70352     | 23529     \n",
      "Average_Joe                                       | 70220     | 23520     \n",
      "Tony                                              | 70452     | 23263     \n",
      "Wolpertinger                                      | 70574     | 23103     \n",
      "Idiot Sandwich Prisoner                           | 70957     | 22677     \n",
      "Kaitlyn                                           | 71378     | 22645     \n",
      "EmilyLPrisoner                                    | 71208     | 22466     \n",
      "Snail                                             | 71546     | 22313     \n",
      "RandomDefectTFT                                   | 71415     | 22265     \n",
      "Smooth Criminal 2 AKA Pretty Princess             | 72025     | 22018     \n",
      "Roki                                              | 77760     | 14508     \n",
      "OppoTaco                                          | 76686     | 12500     \n",
      "PavlovianTFT                                      | 82599     | 353       \n"
     ]
    }
   ],
   "source": [
    "print('Sorting by Cooperations')\n",
    "print('{:<50}| {:<10}| {:<10}'.format('Name', 'Score', 'Cooperations'))\n",
    "print('----------------------------------------------------------')\n",
    "for agent in sorted(agents, key=lambda a:a.getHistory().count('C'), reverse = True):\n",
    "    print('{:<50}| {:<10}| {:<10}'.format(agent.name, agent.score, agent.cooperations))"
   ]
  },
  {
   "cell_type": "code",
   "execution_count": 19,
   "metadata": {},
   "outputs": [
    {
     "name": "stdout",
     "output_type": "stream",
     "text": [
      "Sorting by Defections\n",
      "Name                                              | Score     | Defects   \n",
      "----------------------------------------------------------\n",
      "PavlovianTFT                                      | 82599     | 24647     \n",
      "OppoTaco                                          | 76686     | 12500     \n",
      "Roki                                              | 77760     | 10492     \n",
      "Smooth Criminal 2 AKA Pretty Princess             | 72025     | 2982      \n",
      "RandomDefectTFT                                   | 71415     | 2735      \n",
      "Snail                                             | 71546     | 2687      \n",
      "EmilyLPrisoner                                    | 71208     | 2534      \n",
      "Kaitlyn                                           | 71378     | 2355      \n",
      "Idiot Sandwich Prisoner                           | 70957     | 2323      \n",
      "Wolpertinger                                      | 70574     | 1897      \n",
      "Tony                                              | 70452     | 1737      \n",
      "Average_Joe                                       | 70220     | 1480      \n",
      "VickyPrisoner                                     | 70352     | 1471      \n",
      "MostBestUnderling                                 | 69181     | 25        \n",
      "BOB                                               | 69241     | 2         \n",
      "Goldfish                                          | 69318     | 2         \n",
      "Cooperator                                        | 69363     | 0         \n",
      "Cooperator                                        | 69285     | 0         \n",
      "Cooperator                                        | 69372     | 0         \n",
      "Cooperator                                        | 69153     | 0         \n",
      "Cooperator                                        | 69228     | 0         \n",
      "Cooperator                                        | 69255     | 0         \n",
      "Cooperator                                        | 69279     | 0         \n",
      "Cooperator                                        | 69252     | 0         \n",
      "Cooperator                                        | 69237     | 0         \n",
      "Cooperator                                        | 69225     | 0         \n"
     ]
    }
   ],
   "source": [
    "print('Sorting by Defections')\n",
    "print('{:<50}| {:<10}| {:<10}'.format('Name', 'Score', 'Defects'))\n",
    "print('----------------------------------------------------------')\n",
    "for agent in sorted(agents, key=lambda a:a.getHistory().count('C')):\n",
    "    print('{:<50}| {:<10}| {:<10}'.format(agent.name, agent.score, len(agent.getHistory()) - agent.cooperations))"
   ]
  },
  {
   "cell_type": "markdown",
   "metadata": {},
   "source": [
    "Re-init-ing every prisoner for each round:"
   ]
  },
  {
   "cell_type": "code",
   "execution_count": 2,
   "metadata": {},
   "outputs": [],
   "source": [
    "from prisoners import *\n",
    "from random import shuffle\n",
    "\n",
    "agents = []\n",
    "agents.append(Goldfish())\n",
    "agents.append(PavlovianTFT())\n",
    "agents.append(Roki())\n",
    "agents.append(Average_Joe())\n",
    "agents.append(Bob())\n",
    "agents.append(ElepertPrisoner())\n",
    "agents.append(Kaitlyn())\n",
    "agents.append(SandwichPrisoner())\n",
    "agents.append(SmoothCriminal2AkaPrettyPrincess())\n",
    "agents.append(Snail())\n",
    "agents.append(TigerMountainPrisoner())\n",
    "agents.append(VickyPrisoner())\n",
    "# agents.append(wtw())\n",
    "agents.append(NotAMobster())\n",
    "agents.append(RandomDefectTFT())\n",
    "agents.append(MostBestUnderling())\n",
    "\n",
    "for agent in agents:\n",
    "    agent.score = 0\n",
    "    agent.wins = 0\n",
    "    agent.cooperations = 0\n",
    "\n",
    "# just say for now I have all the classes as \"agents\", list of instantitated agents\n",
    "\n",
    "# going to play 1000 rounds, where in each round every agent plays all other agents once\n",
    "    \n",
    "rounds = 1000\n",
    "scoring = {'CC': (3, 3, 1, 1), 'CD': (0, 5, 0, 1), 'DC': (5, 0, 1, 0), 'DD': (1, 1, 0, 0)}\n",
    "\n",
    "for roundNum in range(rounds):\n",
    "    shuffle(agents)\n",
    "    for agent in agents:\n",
    "        agent.__init__()\n",
    "    for i, agent1 in enumerate(agents):\n",
    "        for j, agent2 in enumerate(agents[i + 1:]):\n",
    "            decision1 = agent1.playDilemma(agent2)\n",
    "            decision2 = agent2.playDilemma(agent1)\n",
    "            score1, score2, win1, win2 = scoring[decision1 + decision2]\n",
    "            agent1.score += score1\n",
    "            agent2.score += score2\n",
    "            agent1.wins += win1\n",
    "            agent2.wins += win2\n",
    "            agent1.cooperations += (decision1 == 'C')\n",
    "            agent2.cooperations += (decision2 == 'C')"
   ]
  },
  {
   "cell_type": "code",
   "execution_count": 4,
   "metadata": {},
   "outputs": [
    {
     "name": "stdout",
     "output_type": "stream",
     "text": [
      "Sorting by Score\n",
      "Name                                              | Score     | Cooperations\n",
      "----------------------------------------------------------------------------\n",
      "BOB                                               | 36976     | 13227     \n",
      "Goldfish                                          | 36923     | 13816     \n",
      "MostBestUnderling                                 | 35787     | 12180     \n",
      "Kaitlyn                                           | 35298     | 10578     \n",
      "Smooth Criminal 2 AKA Pretty Princess             | 35136     | 9488      \n",
      "EmilyLPrisoner                                    | 35032     | 9830      \n",
      "Idiot Sandwich Prisoner                           | 35022     | 10632     \n",
      "VickyPrisoner                                     | 34963     | 10398     \n",
      "Wolpertinger                                      | 34854     | 10656     \n",
      "Roki                                              | 34844     | 9349      \n",
      "PavlovianTFT                                      | 34810     | 10389     \n",
      "Average_Joe                                       | 34773     | 10895     \n",
      "RandomDefectTFT                                   | 34740     | 10247     \n",
      "Snail                                             | 33837     | 6510      \n",
      "Tony                                              | 31629     | 3605      \n"
     ]
    }
   ],
   "source": [
    "print('Sorting by Score')\n",
    "print('{:<50}| {:<10}| {:<10}'.format('Name', 'Score', 'Cooperations'))\n",
    "print('----------------------------------------------------------------------------')\n",
    "for agent in sorted(agents, key=lambda a:a.score, reverse = True):\n",
    "    print('{:<50}| {:<10}| {:<10}'.format(agent.name, agent.score, agent.cooperations))"
   ]
  },
  {
   "cell_type": "code",
   "execution_count": null,
   "metadata": {
    "collapsed": true
   },
   "outputs": [],
   "source": []
  }
 ],
 "metadata": {
  "kernelspec": {
   "display_name": "Python 3",
   "language": "python",
   "name": "python3"
  },
  "language_info": {
   "codemirror_mode": {
    "name": "ipython",
    "version": 3
   },
   "file_extension": ".py",
   "mimetype": "text/x-python",
   "name": "python",
   "nbconvert_exporter": "python",
   "pygments_lexer": "ipython3",
   "version": "3.6.1"
  }
 },
 "nbformat": 4,
 "nbformat_minor": 2
}
