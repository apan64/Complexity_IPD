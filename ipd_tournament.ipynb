{
 "cells": [
  {
   "cell_type": "markdown",
   "metadata": {},
   "source": [
    "# IPD Tournament\n",
    "### Complexity Fall 2017"
   ]
  },
  {
   "cell_type": "code",
   "execution_count": 1,
   "metadata": {
    "collapsed": true
   },
   "outputs": [],
   "source": [
    "from prisoners import *\n",
    "from random import shuffle\n",
    "\n",
    "num_defectors = 0\n",
    "num_cooperators = 0\n",
    "\n",
    "agents = []\n",
    "agents.append(Goldfish())\n",
    "agents.append(PavlovianTFT())\n",
    "agents.append(Roki())\n",
    "agents.append(Average_Joe())\n",
    "agents.append(Bob())\n",
    "agents.append(ElepertPrisoner())\n",
    "agents.append(Kaitlyn())\n",
    "agents.append(SandwichPrisoner())\n",
    "agents.append(SmoothCriminal2AkaPrettyPrincess())\n",
    "agents.append(Snail())\n",
    "agents.append(TigerMountainPrisoner())\n",
    "agents.append(VickyPrisoner())\n",
    "agents.append(wtw())\n",
    "agents.append(NotAMobster())\n",
    "agents.append(RandomDefectTFT())\n",
    "agents.append(MostBestUnderling())\n",
    "\n",
    "for i in range(num_defectors):\n",
    "    agents.append(Defector())\n",
    "\n",
    "for i in range(num_cooperators):\n",
    "    agents.append(Cooperator())\n",
    "\n",
    "\n",
    "for agent in agents:\n",
    "    agent.__init__()\n",
    "    agent.score = 0\n",
    "    agent.wins = 0\n",
    "    agent.cooperations = 0\n",
    "    agent.num_rounds = 0"
   ]
  },
  {
   "cell_type": "code",
   "execution_count": 2,
   "metadata": {
    "collapsed": true
   },
   "outputs": [],
   "source": [
    "scoring = {'CC': (3, 3, 1, 1), 'CD': (0, 5, 0, 1), 'DC': (5, 0, 1, 0), 'DD': (1, 1, 0, 0)}\n",
    "\n",
    "def play_game(agent1, agent2, rounds, printing=False):\n",
    "    # Reinit the agents (Clear their history)\n",
    "    agent1.__init__()\n",
    "    agent2.__init__()\n",
    "    \n",
    "    if len(agent1.personal_history) != 0 or len(agent2.personal_history) != 0:\n",
    "        raise ValueError('Agent histories are not empty')\n",
    "    \n",
    "    if printing: print(\"1 2 S S W W P P\")\n",
    "    \n",
    "    for _ in range(rounds):\n",
    "        decision1 = agent1.makeDecision(agent2.getHistory())\n",
    "        decision2 = agent2.makeDecision(agent1.getHistory())\n",
    "        \n",
    "        agent1.addToHistory(decision1)\n",
    "        agent2.addToHistory(decision2)\n",
    "        \n",
    "        score1, score2, win1, win2 = scoring[decision1 + decision2]\n",
    "        \n",
    "        \n",
    "        agent1.score += score1\n",
    "        agent2.score += score2\n",
    "        \n",
    "        agent1.wins += win1\n",
    "        agent2.wins += win2\n",
    "        \n",
    "        agent1.cooperations += (decision1 == 'C')\n",
    "        agent2.cooperations += (decision2 == 'C')\n",
    "        \n",
    "        if printing: print(decision1, decision2, score1, score2, win1, win2, agent1.score, agent2.score)\n",
    "        \n",
    "        agent1.num_rounds += 1\n",
    "        agent2.num_rounds += 1"
   ]
  },
  {
   "cell_type": "code",
   "execution_count": 3,
   "metadata": {
    "collapsed": true
   },
   "outputs": [
    {
     "name": "stdout",
     "output_type": "stream",
     "text": [
      "..................................................\n",
      "done\n"
     ]
    }
   ],
   "source": [
    "tournament_rounds = 50\n",
    "min_rounds = 200\n",
    "max_rounds = 300\n",
    "\n",
    "for _ in range(tournament_rounds):\n",
    "    for i, agent1 in enumerate(agents):\n",
    "        for j, agent2 in enumerate(agents[i + 1:]):\n",
    "            play_game(agent1, agent2, random.randint(min_rounds, max_rounds))\n",
    "    print('.', end=\"\")\n",
    "    \n",
    "print()\n",
    "print('done')"
   ]
  },
  {
   "cell_type": "markdown",
   "metadata": {},
   "source": [
    "## Sorting by Score"
   ]
  },
  {
   "cell_type": "code",
   "execution_count": 4,
   "metadata": {},
   "outputs": [
    {
     "name": "stdout",
     "output_type": "stream",
     "text": [
      "Name                                              | Score     | Cooperations\n",
      "----------------------------------------------------------------------------\n",
      "MostBestUnderling                                 | 2.964524  | 0.777880 \n",
      "Tony                                              | 2.807776  | 0.795082 \n",
      "Idiot Sandwich Prisoner                           | 2.721119  | 0.837706 \n",
      "Goldfish                                          | 2.711607  | 0.999202 \n",
      "BOB                                               | 2.710929  | 0.997019 \n",
      "Roki                                              | 2.652298  | 0.551138 \n",
      "Wolpertinger                                      | 2.615162  | 0.774939 \n",
      "OppoTaco                                          | 2.589079  | 0.538759 \n",
      "PavlovianTFT                                      | 2.579355  | 0.651535 \n",
      "RandomDefectTFT                                   | 2.503917  | 0.687569 \n",
      "VickyPrisoner                                     | 2.486656  | 0.799615 \n",
      "Average_Joe                                       | 2.486232  | 0.799919 \n",
      "EmilyLPrisoner                                    | 2.360270  | 0.573392 \n",
      "Kaitlyn                                           | 2.339116  | 0.721376 \n",
      "Snail                                             | 1.784908  | 0.335360 \n",
      "Smooth Criminal 2 AKA Pretty Princess             | 1.751536  | 0.265318 \n"
     ]
    }
   ],
   "source": [
    "print('{:<50}| {:<10}| {:<10}'.format('Name', 'Score', 'Cooperations'))\n",
    "print('----------------------------------------------------------------------------')\n",
    "for agent in sorted(agents, key=lambda a:a.score / a.num_rounds, reverse = True):\n",
    "    print('{:<50}| {:<9f} | {:<9f}'.format(agent.name, agent.score / agent.num_rounds, agent.cooperations / agent.num_rounds))"
   ]
  },
  {
   "cell_type": "markdown",
   "metadata": {},
   "source": [
    "## Sorting by Wins"
   ]
  },
  {
   "cell_type": "code",
   "execution_count": 5,
   "metadata": {},
   "outputs": [
    {
     "name": "stdout",
     "output_type": "stream",
     "text": [
      "Name                                              | Wins      | Cooperations\n",
      "----------------------------------------------------------\n",
      "Goldfish                                          | 0.903425  | 0.999202  \n",
      "BOB                                               | 0.901659  | 0.997019  \n",
      "MostBestUnderling                                 | 0.846067  | 0.777880  \n",
      "Tony                                              | 0.831542  | 0.795082  \n",
      "Idiot Sandwich Prisoner                           | 0.828659  | 0.837706  \n",
      "Wolpertinger                                      | 0.769431  | 0.774939  \n",
      "Average_Joe                                       | 0.740119  | 0.799919  \n",
      "VickyPrisoner                                     | 0.739286  | 0.799615  \n",
      "PavlovianTFT                                      | 0.715474  | 0.651535  \n",
      "RandomDefectTFT                                   | 0.693259  | 0.687569  \n",
      "Kaitlyn                                           | 0.672863  | 0.721376  \n",
      "Roki                                              | 0.650043  | 0.551138  \n",
      "EmilyLPrisoner                                    | 0.575679  | 0.573392  \n",
      "OppoTaco                                          | 0.575325  | 0.538759  \n",
      "Snail                                             | 0.346483  | 0.335360  \n",
      "Smooth Criminal 2 AKA Pretty Princess             | 0.315805  | 0.265318  \n"
     ]
    }
   ],
   "source": [
    "print('{:<50}| {:<10}| {:<10}'.format('Name', 'Wins', 'Cooperations'))\n",
    "print('----------------------------------------------------------')\n",
    "for agent in sorted(agents, key=lambda a:a.wins / a.num_rounds, reverse = True):\n",
    "    print('{:<50}| {:<10f}| {:<10f}'.format(agent.name, agent.wins / agent.num_rounds, agent.cooperations / agent.num_rounds))"
   ]
  },
  {
   "cell_type": "markdown",
   "metadata": {},
   "source": [
    "## Sorting by Cooperations"
   ]
  },
  {
   "cell_type": "code",
   "execution_count": 6,
   "metadata": {},
   "outputs": [
    {
     "name": "stdout",
     "output_type": "stream",
     "text": [
      "Name                                              | Score     | Cooperations\n",
      "----------------------------------------------------------\n",
      "Goldfish                                          | 2.711607  | 0.999202  \n",
      "BOB                                               | 2.710929  | 0.997019  \n",
      "Idiot Sandwich Prisoner                           | 2.721119  | 0.837706  \n",
      "Average_Joe                                       | 2.486232  | 0.799919  \n",
      "VickyPrisoner                                     | 2.486656  | 0.799615  \n",
      "Tony                                              | 2.807776  | 0.795082  \n",
      "MostBestUnderling                                 | 2.964524  | 0.777880  \n",
      "Wolpertinger                                      | 2.615162  | 0.774939  \n",
      "Kaitlyn                                           | 2.339116  | 0.721376  \n",
      "RandomDefectTFT                                   | 2.503917  | 0.687569  \n",
      "PavlovianTFT                                      | 2.579355  | 0.651535  \n",
      "EmilyLPrisoner                                    | 2.360270  | 0.573392  \n",
      "Roki                                              | 2.652298  | 0.551138  \n",
      "OppoTaco                                          | 2.589079  | 0.538759  \n",
      "Snail                                             | 1.784908  | 0.335360  \n",
      "Smooth Criminal 2 AKA Pretty Princess             | 1.751536  | 0.265318  \n"
     ]
    }
   ],
   "source": [
    "print('{:<50}| {:<10}| {:<10}'.format('Name', 'Score', 'Cooperations'))\n",
    "print('----------------------------------------------------------')\n",
    "for agent in sorted(agents, key=lambda a:a.cooperations / a.num_rounds, reverse = True):\n",
    "    print('{:<50}| {:<10f}| {:<10f}'.format(agent.name, agent.score / agent.num_rounds, agent.cooperations / agent.num_rounds))"
   ]
  },
  {
   "cell_type": "markdown",
   "metadata": {},
   "source": [
    "## Sorting by Defections"
   ]
  },
  {
   "cell_type": "code",
   "execution_count": 7,
   "metadata": {},
   "outputs": [
    {
     "name": "stdout",
     "output_type": "stream",
     "text": [
      "Name                                              | Score     | Defects   \n",
      "----------------------------------------------------------\n",
      "Smooth Criminal 2 AKA Pretty Princess             | 1.751536  | 0.734682  \n",
      "Snail                                             | 1.784908  | 0.664640  \n",
      "OppoTaco                                          | 2.589079  | 0.461241  \n",
      "Roki                                              | 2.652298  | 0.448862  \n",
      "EmilyLPrisoner                                    | 2.360270  | 0.426608  \n",
      "PavlovianTFT                                      | 2.579355  | 0.348465  \n",
      "RandomDefectTFT                                   | 2.503917  | 0.312431  \n",
      "Kaitlyn                                           | 2.339116  | 0.278624  \n",
      "Wolpertinger                                      | 2.615162  | 0.225061  \n",
      "MostBestUnderling                                 | 2.964524  | 0.222120  \n",
      "Tony                                              | 2.807776  | 0.204918  \n",
      "VickyPrisoner                                     | 2.486656  | 0.200385  \n",
      "Average_Joe                                       | 2.486232  | 0.200081  \n",
      "Idiot Sandwich Prisoner                           | 2.721119  | 0.162294  \n",
      "BOB                                               | 2.710929  | 0.002981  \n",
      "Goldfish                                          | 2.711607  | 0.000798  \n"
     ]
    }
   ],
   "source": [
    "print('{:<50}| {:<10}| {:<10}'.format('Name', 'Score', 'Defects'))\n",
    "print('----------------------------------------------------------')\n",
    "for agent in sorted(agents, key=lambda a:(a.num_rounds - a.cooperations) / a.num_rounds, reverse = True):\n",
    "    print('{:<50}| {:<10f}| {:<10f}'.format(agent.name, agent.score / agent.num_rounds, (agent.num_rounds - agent.cooperations) / agent.num_rounds))"
   ]
  },
  {
   "cell_type": "markdown",
   "metadata": {},
   "source": [
    "# Testing play_game with any two prisoners:"
   ]
  },
  {
   "cell_type": "code",
   "execution_count": 8,
   "metadata": {
    "collapsed": true
   },
   "outputs": [
    {
     "name": "stdout",
     "output_type": "stream",
     "text": [
      "1 2 S S W W P P\n",
      "C C 3 3 1 1 3 3\n",
      "C C 3 3 1 1 6 6\n",
      "D C 5 0 1 0 11 6\n",
      "C D 0 5 0 1 11 11\n",
      "C C 3 3 1 1 14 14\n",
      "C C 3 3 1 1 17 17\n",
      "C C 3 3 1 1 20 20\n",
      "C C 3 3 1 1 23 23\n",
      "C C 3 3 1 1 26 26\n",
      "C C 3 3 1 1 29 29\n"
     ]
    }
   ],
   "source": [
    "test_agents = [MostBestUnderling(), PavlovianTFT()]\n",
    "for agent in test_agents:\n",
    "    agent.__init__()\n",
    "    agent.score = 0\n",
    "    agent.wins = 0\n",
    "    agent.cooperations = 0\n",
    "    agent.num_rounds = 0\n",
    "\n",
    "play_game(test_agents[0], test_agents[1], 10, printing=True)"
   ]
  },
  {
   "cell_type": "code",
   "execution_count": null,
   "metadata": {},
   "outputs": [],
   "source": []
  }
 ],
 "metadata": {
  "kernelspec": {
   "display_name": "Python 3",
   "language": "python",
   "name": "python3"
  },
  "language_info": {
   "codemirror_mode": {
    "name": "ipython",
    "version": 3
   },
   "file_extension": ".py",
   "mimetype": "text/x-python",
   "name": "python",
   "nbconvert_exporter": "python",
   "pygments_lexer": "ipython3",
   "version": "3.5.3"
  }
 },
 "nbformat": 4,
 "nbformat_minor": 2
}
